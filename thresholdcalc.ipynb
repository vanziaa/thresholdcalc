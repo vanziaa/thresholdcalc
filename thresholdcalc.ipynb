{
 "cells": [
  {
   "cell_type": "code",
   "execution_count": 34,
   "metadata": {},
   "outputs": [],
   "source": [
    "import matplotlib.pyplot as plt\n",
    "from pandas import read_csv\n",
    "import pandas as pd\n",
    "import numpy as np\n",
    "from sklearn.metrics import classification_report,roc_curve, auc, plot_roc_curve\n",
    "from sklearn.metrics import confusion_matrix"
   ]
  },
  {
   "cell_type": "code",
   "execution_count": 35,
   "metadata": {},
   "outputs": [],
   "source": [
    "df = pd.read_csv('/root/liver_spleen_seg/radiomics/model/LSPS2.csv')\n",
    "train = df.loc[df[\"GROUP\"] == 1]\n",
    "test = df.loc[df[\"GROUP\"] == 2]"
   ]
  },
  {
   "cell_type": "code",
   "execution_count": 36,
   "metadata": {},
   "outputs": [],
   "source": [
    "#label & model results\n",
    "train_label=train.iloc[:,6]\n",
    "test_label=test.iloc[:,6]\n",
    "train_PRE=train.iloc[:,12]\n",
    "test_PRE=test.iloc[:,12]\n",
    "\n",
    "def Find_Optimal_Cutoff(TPR, FPR, threshold):\n",
    "    y = TPR - FPR\n",
    "    Youden_index = np.argmax(y)  # Only the first occurrence is returned.\n",
    "    optimal_threshold = threshold[Youden_index]\n",
    "    point = [FPR[Youden_index], TPR[Youden_index]]\n",
    "    return optimal_threshold, point\n",
    "# Youden_index\n",
    "fpr1,tpr1,thresholds1 = roc_curve(train_label,train_PRE)\n",
    "optimal_th, optimal_point = Find_Optimal_Cutoff(TPR=tpr1, FPR=fpr1, \n",
    "                                                          threshold=thresholds1)\n",
    "\n"
   ]
  },
  {
   "cell_type": "code",
   "execution_count": 37,
   "metadata": {},
   "outputs": [],
   "source": [
    "def Find_All_Cutoff(label,PRE):\n",
    "    FPR,TPR,threshold = roc_curve(label,PRE)\n",
    "    COUNT=0\n",
    "    while COUNT < len(threshold):\n",
    "        optimal_th=threshold[COUNT]\n",
    "        TRAIN_PRED_LABEL = np.zeros([len(PRE), 1])\n",
    "        TRAIN_PRED_LABEL[PRE >= optimal_th] = 1\n",
    "        tn, fp, fn, tp = confusion_matrix(label, TRAIN_PRED_LABEL).ravel()\n",
    "        train_sens = tp / (tp + fn)\n",
    "        train_spec = tn / (tn + fp)\n",
    "        PPV = tp / (tp + fp)\n",
    "        NPV = tn / (tn + fn)\n",
    "        #print(optimal_th,tn, fp, fn, tp,PPV,NPV)\n",
    "        print(COUNT,'%.3f'%optimal_th,'\\t',\" tp\\t\",tp,'\\t',\" fp\\t\",fp,'\\t',\" tn\\t\",tn,'\\t',\" fn\\t\",fn,'\\t',\"PPV\\t\",'%.3f'%PPV,'\\t',\"NPV\\t\",'%.3f'%NPV,'\\t',\n",
    "          \"sensetivity\\t\",'%.3f'%train_sens,'\\t',\"specificity\\t\",'%.3f'%train_spec) \n",
    "        COUNT=COUNT+1"
   ]
  },
  {
   "cell_type": "code",
   "execution_count": null,
   "metadata": {},
   "outputs": [],
   "source": [
    "#所有阈值对应的结果就出来了，可以挑选需要的阈值\n",
    "Find_All_Cutoff(train_label,train_PRE)"
   ]
  },
  {
   "cell_type": "code",
   "execution_count": null,
   "metadata": {},
   "outputs": [],
   "source": []
  }
 ],
 "metadata": {
  "kernelspec": {
   "display_name": "Python [conda env:automl]",
   "language": "python",
   "name": "conda-env-automl-py"
  },
  "language_info": {
   "codemirror_mode": {
    "name": "ipython",
    "version": 3
   },
   "file_extension": ".py",
   "mimetype": "text/x-python",
   "name": "python",
   "nbconvert_exporter": "python",
   "pygments_lexer": "ipython3",
   "version": "3.7.9"
  }
 },
 "nbformat": 4,
 "nbformat_minor": 4
}
